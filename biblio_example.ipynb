{
 "cells": [
  {
   "cell_type": "markdown",
   "metadata": {},
   "source": [
    "# Example of biblio script execution"
   ]
  },
  {
   "cell_type": "code",
   "execution_count": 1,
   "metadata": {},
   "outputs": [],
   "source": [
    "import biblio"
   ]
  },
  {
   "cell_type": "markdown",
   "metadata": {},
   "source": [
    "That is how the file looks like, in which you want to perform capitalization in titles."
   ]
  },
  {
   "cell_type": "code",
   "execution_count": 2,
   "metadata": {},
   "outputs": [],
   "source": [
    "filename = 'biblio.txt'\n",
    "file_input = open(filename, 'r')"
   ]
  },
  {
   "cell_type": "code",
   "execution_count": 3,
   "metadata": {},
   "outputs": [
    {
     "name": "stdout",
     "output_type": "stream",
     "text": [
      "@article{yang2020covid,\n",
      "title={COVID-19: immunopathogenesis and Immunotherapeutics},\n",
      "author={Yang, Li and Liu, Shasha and Liu, Jinyan and Zhang, Zhixin and Wan, Xiaochun and Huang, Bo and Chen, Youhai and Zhang, Yi},\n",
      "journal={Signal transduction and targeted therapy},\n",
      "volume={5},\n",
      "number={1},\n",
      "pages={1--8},\n",
      "year={2020},\n",
      "publisher={Nature Publishing Group}\n",
      "}\n",
      "\n",
      "@article{gharehchopogh2019comprehensive,\n",
      "title={A comprehensive survey: Whale Optimization Algorithm and its applications},\n",
      "author={Gharehchopogh, Farhad Soleimanian and Gholizadeh, Hojjat},\n",
      "journal={Swarm and Evolutionary Computation},\n",
      "volume={48},\n",
      "pages={1--24},\n",
      "year={2019},\n",
      "publisher={Elsevier}\n",
      "}\n"
     ]
    }
   ],
   "source": [
    "while True:\n",
    "    line = file_input.readline()\n",
    "    if not line:\n",
    "        break\n",
    "    print(line.strip())"
   ]
  },
  {
   "cell_type": "markdown",
   "metadata": {},
   "source": [
    "Now run the script"
   ]
  },
  {
   "cell_type": "code",
   "execution_count": 4,
   "metadata": {},
   "outputs": [],
   "source": [
    "%run biblio.py"
   ]
  },
  {
   "cell_type": "markdown",
   "metadata": {},
   "source": [
    "Let's check the result of the script."
   ]
  },
  {
   "cell_type": "code",
   "execution_count": 5,
   "metadata": {},
   "outputs": [],
   "source": [
    "file_output = open('outfile.txt', 'r')"
   ]
  },
  {
   "cell_type": "code",
   "execution_count": 6,
   "metadata": {},
   "outputs": [
    {
     "name": "stdout",
     "output_type": "stream",
     "text": [
      "@article{yang2020covid,\n",
      "title={{COVID}-19: immunopathogenesis and {I}mmunotherapeutics},\n",
      "author={Yang, Li and Liu, Shasha and Liu, Jinyan and Zhang, Zhixin and Wan, Xiaochun and Huang, Bo and Chen, Youhai and Zhang, Yi},\n",
      "journal={Signal transduction and targeted therapy},\n",
      "volume={5},\n",
      "number={1},\n",
      "pages={1--8},\n",
      "year={2020},\n",
      "publisher={Nature Publishing Group}\n",
      "}\n",
      "\n",
      "@article{gharehchopogh2019comprehensive,\n",
      "title={{A} comprehensive survey: {W}hale {O}ptimization {A}lgorithm and its applications},\n",
      "author={Gharehchopogh, Farhad Soleimanian and Gholizadeh, Hojjat},\n",
      "journal={Swarm and Evolutionary Computation},\n",
      "volume={48},\n",
      "pages={1--24},\n",
      "year={2019},\n",
      "publisher={Elsevier}\n",
      "}\n"
     ]
    }
   ],
   "source": [
    "while True:\n",
    "    line = file_output.readline()\n",
    "    if not line:\n",
    "        break\n",
    "    print(line.strip())"
   ]
  },
  {
   "cell_type": "markdown",
   "metadata": {},
   "source": [
    "After executing the script, capital letters in titles are surrounded by curly brackets and will be generated correctly in the pdf file."
   ]
  },
  {
   "cell_type": "code",
   "execution_count": null,
   "metadata": {},
   "outputs": [],
   "source": []
  }
 ],
 "metadata": {
  "kernelspec": {
   "display_name": "Python 3",
   "language": "python",
   "name": "python3"
  },
  "language_info": {
   "codemirror_mode": {
    "name": "ipython",
    "version": 3
   },
   "file_extension": ".py",
   "mimetype": "text/x-python",
   "name": "python",
   "nbconvert_exporter": "python",
   "pygments_lexer": "ipython3",
   "version": "3.8.6"
  }
 },
 "nbformat": 4,
 "nbformat_minor": 4
}
